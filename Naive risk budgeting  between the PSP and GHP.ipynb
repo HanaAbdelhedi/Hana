{
 "cells": [
  {
   "cell_type": "markdown",
   "metadata": {},
   "source": [
    "Naive Risk Budgeting Strategies between the PSP and GHP"
   ]
  },
  {
   "cell_type": "code",
   "execution_count": 32,
   "metadata": {},
   "outputs": [
    {
     "name": "stdout",
     "output_type": "stream",
     "text": [
      "The autoreload extension is already loaded. To reload it, use:\n",
      "  %reload_ext autoreload\n"
     ]
    }
   ],
   "source": [
    "%load_ext autoreload\n",
    "%autoreload 2\n",
    "%matplotlib inline\n",
    "import pandas as pd\n",
    "import Easy_Risk_Kit as erk\n"
   ]
  },
  {
   "cell_type": "code",
   "execution_count": 7,
   "metadata": {},
   "outputs": [],
   "source": [
    "def bt_mix(r1, r2, allocator, **kwargs):\n",
    "    \"\"\"\n",
    "    Returns T*N DataFrame of the resulting N portfolio scenarios\n",
    "    \"\"\"\n",
    "    if not r1.shape==r2.shape:\n",
    "        raise ValueError(\" r1 and r2 need to be the same shape\")\n",
    "    weights=allocator(r1,r2, **kwargs)# allocator will take r1 and r2 and a bunch of other things\n",
    "    if not weights.shape==r1.shape:\n",
    "        raise ValueError(\"Allocator returned weights that don't match r1\")\n",
    "    r_mix=weights*r1+(1-weights)*r2\n",
    "    return r_mix\n",
    "    "
   ]
  },
  {
   "cell_type": "code",
   "execution_count": 8,
   "metadata": {},
   "outputs": [],
   "source": [
    "def fixedmix_allocator(r1, r2, w1, **kwargs):\n",
    "    \"\"\"\n",
    "    Return a t*N DataFrame of PSP weights\n",
    "    \"\"\"\n",
    "    return pd.DataFrame(data=w1, index=r1.index, columns=r1.columns)\n",
    "    \n",
    "    "
   ]
  },
  {
   "cell_type": "code",
   "execution_count": 12,
   "metadata": {},
   "outputs": [
    {
     "data": {
      "text/html": [
       "<div>\n",
       "<style scoped>\n",
       "    .dataframe tbody tr th:only-of-type {\n",
       "        vertical-align: middle;\n",
       "    }\n",
       "\n",
       "    .dataframe tbody tr th {\n",
       "        vertical-align: top;\n",
       "    }\n",
       "\n",
       "    .dataframe thead th {\n",
       "        text-align: right;\n",
       "    }\n",
       "</style>\n",
       "<table border=\"1\" class=\"dataframe\">\n",
       "  <thead>\n",
       "    <tr style=\"text-align: right;\">\n",
       "      <th></th>\n",
       "      <th>Annualized Return</th>\n",
       "      <th>Annualized Vol</th>\n",
       "      <th>Skewness</th>\n",
       "      <th>Kurtosis</th>\n",
       "      <th>Cornish-fisher Var(5%)</th>\n",
       "      <th>Historic CVaR(5%)</th>\n",
       "      <th>Sharpe Ratio</th>\n",
       "      <th>Max Drawdown</th>\n",
       "    </tr>\n",
       "  </thead>\n",
       "  <tbody>\n",
       "    <tr>\n",
       "      <td>0</td>\n",
       "      <td>0.036626</td>\n",
       "      <td>0.003132</td>\n",
       "      <td>0.486267</td>\n",
       "      <td>3.102467</td>\n",
       "      <td>-0.001652</td>\n",
       "      <td>-0.001557</td>\n",
       "      <td>2.05935</td>\n",
       "      <td>0.0</td>\n",
       "    </tr>\n",
       "  </tbody>\n",
       "</table>\n",
       "</div>"
      ],
      "text/plain": [
       "   Annualized Return  Annualized Vol  Skewness  Kurtosis  \\\n",
       "0           0.036626        0.003132  0.486267  3.102467   \n",
       "\n",
       "   Cornish-fisher Var(5%)  Historic CVaR(5%)  Sharpe Ratio  Max Drawdown  \n",
       "0               -0.001652          -0.001557       2.05935           0.0  "
      ]
     },
     "execution_count": 12,
     "metadata": {},
     "output_type": "execute_result"
    }
   ],
   "source": [
    "rates, zc_prices=erk.cir(10, 500, b=0.03, r_0=0.03)\n",
    "price_10=erk.bond_price(10, 100, 0.05, 12, rates)\n",
    "price_30=erk.bond_price(30, 100, 0.05, 12, rates)\n",
    "rets_30=erk.bond_total_return(price_30, 100,0.05,12)\n",
    "rets_10=erk.bond_total_return(price_10, 100,0.05,12)\n",
    "rets_bonds=erk.bt_mix(rets_10, rets_30, allocator=erk.fixedmix_allocator, w1=.6)\n",
    "mean_rets_bonds=rets_bonds.mean(axis='columns')\n",
    "erk.summary_stats(pd.DataFrame(mean_rets_bonds))\n"
   ]
  },
  {
   "cell_type": "code",
   "execution_count": 18,
   "metadata": {},
   "outputs": [],
   "source": [
    "price_eq=erk.gbm(n_years=10, n_scenarios=500, mu=0.07, sigma=0.15)\n",
    "rets_eq=price_eq.pct_change().dropna()\n",
    "rets_zc=zc_prices.pct_change().dropna()\n"
   ]
  },
  {
   "cell_type": "code",
   "execution_count": 19,
   "metadata": {},
   "outputs": [
    {
     "data": {
      "text/html": [
       "<div>\n",
       "<style scoped>\n",
       "    .dataframe tbody tr th:only-of-type {\n",
       "        vertical-align: middle;\n",
       "    }\n",
       "\n",
       "    .dataframe tbody tr th {\n",
       "        vertical-align: top;\n",
       "    }\n",
       "\n",
       "    .dataframe thead th {\n",
       "        text-align: right;\n",
       "    }\n",
       "</style>\n",
       "<table border=\"1\" class=\"dataframe\">\n",
       "  <thead>\n",
       "    <tr style=\"text-align: right;\">\n",
       "      <th></th>\n",
       "      <th>Annualized Return</th>\n",
       "      <th>Annualized Vol</th>\n",
       "      <th>Skewness</th>\n",
       "      <th>Kurtosis</th>\n",
       "      <th>Cornish-fisher Var(5%)</th>\n",
       "      <th>Historic CVaR(5%)</th>\n",
       "      <th>Sharpe Ratio</th>\n",
       "      <th>Max Drawdown</th>\n",
       "    </tr>\n",
       "  </thead>\n",
       "  <tbody>\n",
       "    <tr>\n",
       "      <td>0</td>\n",
       "      <td>0.059565</td>\n",
       "      <td>0.005062</td>\n",
       "      <td>-0.216238</td>\n",
       "      <td>2.499598</td>\n",
       "      <td>-0.002338</td>\n",
       "      <td>-0.001821</td>\n",
       "      <td>5.684297</td>\n",
       "      <td>0.0</td>\n",
       "    </tr>\n",
       "  </tbody>\n",
       "</table>\n",
       "</div>"
      ],
      "text/plain": [
       "   Annualized Return  Annualized Vol  Skewness  Kurtosis  \\\n",
       "0           0.059565        0.005062 -0.216238  2.499598   \n",
       "\n",
       "   Cornish-fisher Var(5%)  Historic CVaR(5%)  Sharpe Ratio  Max Drawdown  \n",
       "0               -0.002338          -0.001821      5.684297           0.0  "
      ]
     },
     "execution_count": 19,
     "metadata": {},
     "output_type": "execute_result"
    }
   ],
   "source": [
    "rets_7030b=erk.bt_mix(rets_eq, rets_bonds, allocator=erk.fixedmix_allocator, w1=0.7)\n",
    "rets_7030b_mean =rets_7030b.mean(axis=1)\n",
    "erk.summary_stats(pd.DataFrame(rets_7030b_mean))"
   ]
  },
  {
   "cell_type": "code",
   "execution_count": 20,
   "metadata": {},
   "outputs": [],
   "source": [
    "summaries=erk.summary_stats(rets_7030b)"
   ]
  },
  {
   "cell_type": "code",
   "execution_count": 21,
   "metadata": {},
   "outputs": [
    {
     "data": {
      "text/html": [
       "<div>\n",
       "<style scoped>\n",
       "    .dataframe tbody tr th:only-of-type {\n",
       "        vertical-align: middle;\n",
       "    }\n",
       "\n",
       "    .dataframe tbody tr th {\n",
       "        vertical-align: top;\n",
       "    }\n",
       "\n",
       "    .dataframe thead th {\n",
       "        text-align: right;\n",
       "    }\n",
       "</style>\n",
       "<table border=\"1\" class=\"dataframe\">\n",
       "  <thead>\n",
       "    <tr style=\"text-align: right;\">\n",
       "      <th></th>\n",
       "      <th>Annualized Return</th>\n",
       "      <th>Annualized Vol</th>\n",
       "      <th>Skewness</th>\n",
       "      <th>Kurtosis</th>\n",
       "      <th>Cornish-fisher Var(5%)</th>\n",
       "      <th>Historic CVaR(5%)</th>\n",
       "      <th>Sharpe Ratio</th>\n",
       "      <th>Max Drawdown</th>\n",
       "    </tr>\n",
       "  </thead>\n",
       "  <tbody>\n",
       "    <tr>\n",
       "      <td>0</td>\n",
       "      <td>0.053830</td>\n",
       "      <td>0.109996</td>\n",
       "      <td>-0.139708</td>\n",
       "      <td>2.649095</td>\n",
       "      <td>0.048601</td>\n",
       "      <td>0.062214</td>\n",
       "      <td>0.210717</td>\n",
       "      <td>-0.170801</td>\n",
       "    </tr>\n",
       "    <tr>\n",
       "      <td>1</td>\n",
       "      <td>0.083965</td>\n",
       "      <td>0.116992</td>\n",
       "      <td>-0.256997</td>\n",
       "      <td>2.843207</td>\n",
       "      <td>0.050534</td>\n",
       "      <td>0.067037</td>\n",
       "      <td>0.448818</td>\n",
       "      <td>-0.287749</td>\n",
       "    </tr>\n",
       "    <tr>\n",
       "      <td>2</td>\n",
       "      <td>0.063568</td>\n",
       "      <td>0.103503</td>\n",
       "      <td>-0.070761</td>\n",
       "      <td>3.204512</td>\n",
       "      <td>0.043823</td>\n",
       "      <td>0.057299</td>\n",
       "      <td>0.315534</td>\n",
       "      <td>-0.227808</td>\n",
       "    </tr>\n",
       "    <tr>\n",
       "      <td>3</td>\n",
       "      <td>0.089905</td>\n",
       "      <td>0.108671</td>\n",
       "      <td>0.070349</td>\n",
       "      <td>2.819738</td>\n",
       "      <td>0.043187</td>\n",
       "      <td>0.056456</td>\n",
       "      <td>0.536415</td>\n",
       "      <td>-0.125565</td>\n",
       "    </tr>\n",
       "    <tr>\n",
       "      <td>4</td>\n",
       "      <td>0.039059</td>\n",
       "      <td>0.100710</td>\n",
       "      <td>0.031967</td>\n",
       "      <td>2.669763</td>\n",
       "      <td>0.043934</td>\n",
       "      <td>0.052752</td>\n",
       "      <td>0.087427</td>\n",
       "      <td>-0.198057</td>\n",
       "    </tr>\n",
       "  </tbody>\n",
       "</table>\n",
       "</div>"
      ],
      "text/plain": [
       "   Annualized Return  Annualized Vol  Skewness  Kurtosis  \\\n",
       "0           0.053830        0.109996 -0.139708  2.649095   \n",
       "1           0.083965        0.116992 -0.256997  2.843207   \n",
       "2           0.063568        0.103503 -0.070761  3.204512   \n",
       "3           0.089905        0.108671  0.070349  2.819738   \n",
       "4           0.039059        0.100710  0.031967  2.669763   \n",
       "\n",
       "   Cornish-fisher Var(5%)  Historic CVaR(5%)  Sharpe Ratio  Max Drawdown  \n",
       "0                0.048601           0.062214      0.210717     -0.170801  \n",
       "1                0.050534           0.067037      0.448818     -0.287749  \n",
       "2                0.043823           0.057299      0.315534     -0.227808  \n",
       "3                0.043187           0.056456      0.536415     -0.125565  \n",
       "4                0.043934           0.052752      0.087427     -0.198057  "
      ]
     },
     "execution_count": 21,
     "metadata": {},
     "output_type": "execute_result"
    }
   ],
   "source": [
    "summaries.head()"
   ]
  },
  {
   "cell_type": "markdown",
   "metadata": {},
   "source": [
    "If you have the money to get a zero bound and a 100% funding ratio then you're good. You have all the money you need so start moving to bonds. \n",
    "But the more money you put in PSP, the better chance that you hit your liability.\n"
   ]
  },
  {
   "cell_type": "code",
   "execution_count": 19,
   "metadata": {},
   "outputs": [],
   "source": [
    "#p_breach, the probability that you fall bellow the floor is almost 0"
   ]
  },
  {
   "cell_type": "code",
   "execution_count": 22,
   "metadata": {},
   "outputs": [
    {
     "data": {
      "text/plain": [
       "Annualized Return         0.053958\n",
       "Annualized Vol            0.107975\n",
       "Skewness                  0.008116\n",
       "Kurtosis                  2.948602\n",
       "Cornish-fisher Var(5%)    0.046151\n",
       "Historic CVaR(5%)         0.058291\n",
       "Sharpe Ratio              0.216467\n",
       "Max Drawdown             -0.210986\n",
       "dtype: float64"
      ]
     },
     "execution_count": 22,
     "metadata": {},
     "output_type": "execute_result"
    }
   ],
   "source": [
    "summaries.mean()"
   ]
  },
  {
   "cell_type": "code",
   "execution_count": 23,
   "metadata": {},
   "outputs": [],
   "source": [
    "#compute the statistics on each different sencario then do the avg ( average the statistics not the returns)"
   ]
  },
  {
   "cell_type": "code",
   "execution_count": 25,
   "metadata": {},
   "outputs": [],
   "source": [
    "def terminal_value(rets):\n",
    "    \"\"\"\n",
    "    Returns the final value at the end of the return period for each scenario\n",
    "    \"\"\"\n",
    "    \n",
    "    return (rets+1).prod()"
   ]
  },
  {
   "cell_type": "code",
   "execution_count": 35,
   "metadata": {},
   "outputs": [
    {
     "data": {
      "text/html": [
       "<div>\n",
       "<style scoped>\n",
       "    .dataframe tbody tr th:only-of-type {\n",
       "        vertical-align: middle;\n",
       "    }\n",
       "\n",
       "    .dataframe tbody tr th {\n",
       "        vertical-align: top;\n",
       "    }\n",
       "\n",
       "    .dataframe thead th {\n",
       "        text-align: right;\n",
       "    }\n",
       "</style>\n",
       "<table border=\"1\" class=\"dataframe\">\n",
       "  <thead>\n",
       "    <tr style=\"text-align: right;\">\n",
       "      <th></th>\n",
       "      <th>FI</th>\n",
       "      <th>Eq</th>\n",
       "      <th>70/30</th>\n",
       "    </tr>\n",
       "  </thead>\n",
       "  <tbody>\n",
       "    <tr>\n",
       "      <td>mean</td>\n",
       "      <td>1.394275</td>\n",
       "      <td>1.925334</td>\n",
       "      <td>1.764423</td>\n",
       "    </tr>\n",
       "    <tr>\n",
       "      <td>std</td>\n",
       "      <td>0.106047</td>\n",
       "      <td>0.853254</td>\n",
       "      <td>0.541799</td>\n",
       "    </tr>\n",
       "    <tr>\n",
       "      <td>p_breach</td>\n",
       "      <td>NaN</td>\n",
       "      <td>0.050000</td>\n",
       "      <td>0.014000</td>\n",
       "    </tr>\n",
       "    <tr>\n",
       "      <td>e_short</td>\n",
       "      <td>NaN</td>\n",
       "      <td>0.133102</td>\n",
       "      <td>0.039370</td>\n",
       "    </tr>\n",
       "    <tr>\n",
       "      <td>p_reach</td>\n",
       "      <td>NaN</td>\n",
       "      <td>NaN</td>\n",
       "      <td>NaN</td>\n",
       "    </tr>\n",
       "    <tr>\n",
       "      <td>e_surplus</td>\n",
       "      <td>NaN</td>\n",
       "      <td>NaN</td>\n",
       "      <td>NaN</td>\n",
       "    </tr>\n",
       "  </tbody>\n",
       "</table>\n",
       "</div>"
      ],
      "text/plain": [
       "                 FI        Eq     70/30\n",
       "mean       1.394275  1.925334  1.764423\n",
       "std        0.106047  0.853254  0.541799\n",
       "p_breach        NaN  0.050000  0.014000\n",
       "e_short         NaN  0.133102  0.039370\n",
       "p_reach         NaN       NaN       NaN\n",
       "e_surplus       NaN       NaN       NaN"
      ]
     },
     "execution_count": 35,
     "metadata": {},
     "output_type": "execute_result"
    }
   ],
   "source": [
    "pd.concat([\n",
    "    erk.terminal_stats(rets_bonds, name=\"FI\"), \n",
    "    erk.terminal_stats(rets_eq, name=\"Eq\"),\n",
    "    erk.terminal_stats(rets_7030b, name=\"70/30\")\n",
    "], axis=1)"
   ]
  },
  {
   "cell_type": "code",
   "execution_count": 36,
   "metadata": {},
   "outputs": [],
   "source": [
    "import seaborn as sns"
   ]
  },
  {
   "cell_type": "code",
   "execution_count": 41,
   "metadata": {},
   "outputs": [
    {
     "data": {
      "text/plain": [
       "<matplotlib.legend.Legend at 0x1af85c48a08>"
      ]
     },
     "execution_count": 41,
     "metadata": {},
     "output_type": "execute_result"
    },
    {
     "data": {
      "image/png": "[encoded data removed]",
      "text/plain": [
       "<Figure size 864x432 with 1 Axes>"
      ]
     },
     "metadata": {
      "needs_background": "light"
     },
     "output_type": "display_data"
    }
   ],
   "source": [
    "import matplotlib.pyplot as plt\n",
    "plt.figure(figsize=(12,6))\n",
    "sns.distplot(erk.terminal_values(rets_eq), color=\"red\", label=\"100% Equities\")\n",
    "sns.distplot(erk.terminal_values(rets_bonds), color=\"blue\", label=\"100% Bonds\")\n",
    "sns.distplot(erk.terminal_values(rets_7030b), color=\"orange\", label=\"70/30 Equities/Bonds\")\n",
    "plt.legend()"
   ]
  },
  {
   "cell_type": "markdown",
   "metadata": {},
   "source": [
    "#Glid path for allocation"
   ]
  },
  {
   "cell_type": "code",
   "execution_count": 47,
   "metadata": {},
   "outputs": [],
   "source": [
    "def glidpath_allocator( r1, r2, start_glide=1, end_glide=0):\n",
    "    \"\"\"\n",
    "    Gradualy move from r1 to r2\n",
    "    \"\"\"\n",
    "    n_points= r1.shape[0]\n",
    "    n_col=r1.shape[1]\n",
    "    path= pd.Series(data=np.linspace(start_glide, end_glide, num=n_points))\n",
    "    paths=pd.concat([path]*n_col, axis=1)\n",
    "    paths.index=r1.index\n",
    "    paths.columns=r1.columns\n",
    "    return paths"
   ]
  },
  {
   "cell_type": "raw",
   "metadata": {},
   "source": []
  },
  {
   "cell_type": "code",
   "execution_count": 48,
   "metadata": {},
   "outputs": [],
   "source": [
    "rets_g8020=erk.bt_mix(rets_eq, rets_bonds, allocator=erk.glidpath_allocator, start_glide=.80, end_glide=.20)"
   ]
  },
  {
   "cell_type": "code",
   "execution_count": 50,
   "metadata": {},
   "outputs": [
    {
     "data": {
      "text/html": [
       "<div>\n",
       "<style scoped>\n",
       "    .dataframe tbody tr th:only-of-type {\n",
       "        vertical-align: middle;\n",
       "    }\n",
       "\n",
       "    .dataframe tbody tr th {\n",
       "        vertical-align: top;\n",
       "    }\n",
       "\n",
       "    .dataframe thead th {\n",
       "        text-align: right;\n",
       "    }\n",
       "</style>\n",
       "<table border=\"1\" class=\"dataframe\">\n",
       "  <thead>\n",
       "    <tr style=\"text-align: right;\">\n",
       "      <th></th>\n",
       "      <th>FI</th>\n",
       "      <th>Eq</th>\n",
       "      <th>70/30</th>\n",
       "      <th>Glide 80 to 20</th>\n",
       "    </tr>\n",
       "  </thead>\n",
       "  <tbody>\n",
       "    <tr>\n",
       "      <td>mean</td>\n",
       "      <td>1.394275</td>\n",
       "      <td>1.925334</td>\n",
       "      <td>1.764423</td>\n",
       "      <td>1.641494</td>\n",
       "    </tr>\n",
       "    <tr>\n",
       "      <td>std</td>\n",
       "      <td>0.106047</td>\n",
       "      <td>0.853254</td>\n",
       "      <td>0.541799</td>\n",
       "      <td>0.390865</td>\n",
       "    </tr>\n",
       "    <tr>\n",
       "      <td>p_breach</td>\n",
       "      <td>NaN</td>\n",
       "      <td>0.050000</td>\n",
       "      <td>0.014000</td>\n",
       "      <td>0.002000</td>\n",
       "    </tr>\n",
       "    <tr>\n",
       "      <td>e_short</td>\n",
       "      <td>NaN</td>\n",
       "      <td>0.133102</td>\n",
       "      <td>0.039370</td>\n",
       "      <td>0.001726</td>\n",
       "    </tr>\n",
       "    <tr>\n",
       "      <td>p_reach</td>\n",
       "      <td>NaN</td>\n",
       "      <td>NaN</td>\n",
       "      <td>NaN</td>\n",
       "      <td>NaN</td>\n",
       "    </tr>\n",
       "    <tr>\n",
       "      <td>e_surplus</td>\n",
       "      <td>NaN</td>\n",
       "      <td>NaN</td>\n",
       "      <td>NaN</td>\n",
       "      <td>NaN</td>\n",
       "    </tr>\n",
       "  </tbody>\n",
       "</table>\n",
       "</div>"
      ],
      "text/plain": [
       "                 FI        Eq     70/30  Glide 80 to 20\n",
       "mean       1.394275  1.925334  1.764423        1.641494\n",
       "std        0.106047  0.853254  0.541799        0.390865\n",
       "p_breach        NaN  0.050000  0.014000        0.002000\n",
       "e_short         NaN  0.133102  0.039370        0.001726\n",
       "p_reach         NaN       NaN       NaN             NaN\n",
       "e_surplus       NaN       NaN       NaN             NaN"
      ]
     },
     "execution_count": 50,
     "metadata": {},
     "output_type": "execute_result"
    }
   ],
   "source": [
    "pd.concat([\n",
    "    erk.terminal_stats(rets_bonds, name=\"FI\"), \n",
    "    erk.terminal_stats(rets_eq, name=\"Eq\"),\n",
    "    erk.terminal_stats(rets_7030b, name=\"70/30\"),\n",
    "    erk.terminal_stats(rets_g8020, name=\"Glide 80 to 20\")\n",
    "], axis=1)"
   ]
  },
  {
   "cell_type": "code",
   "execution_count": 51,
   "metadata": {},
   "outputs": [],
   "source": [
    "#breaches still exits but doesn't realy solve the problem"
   ]
  },
  {
   "cell_type": "code",
   "execution_count": null,
   "metadata": {},
   "outputs": [],
   "source": []
  }
 ],
 "metadata": {
  "kernelspec": {
   "display_name": "Python 3",
   "language": "python",
   "name": "python3"
  },
  "language_info": {
   "codemirror_mode": {
    "name": "ipython",
    "version": 3
   },
   "file_extension": ".py",
   "mimetype": "text/x-python",
   "name": "python",
   "nbconvert_exporter": "python",
   "pygments_lexer": "ipython3",
   "version": "3.7.4"
  }
 },
 "nbformat": 4,
 "nbformat_minor": 4
}
