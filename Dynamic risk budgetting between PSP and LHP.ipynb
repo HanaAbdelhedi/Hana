{
 "cells": [
  {
   "cell_type": "code",
   "execution_count": 1,
   "metadata": {},
   "outputs": [],
   "source": [
    "import numpy as np\n",
    "import pandas as pd\n",
    "import Easy_Risk_Kit as erk\n",
    "import matplotlib.pyplot as plt \n",
    "import seaborn as  sns\n",
    "%load_ext autoreload\n",
    "%autoreload 2\n",
    "%matplotlib inline\n",
    "\n",
    "\n"
   ]
  },
  {
   "cell_type": "markdown",
   "metadata": {},
   "source": [
    "floor allocator gets youncloser to the floor by allocating more to zero coupn bond( duration matched portfolio), \n",
    "as we get closer to the floor valur"
   ]
  },
  {
   "cell_type": "code",
   "execution_count": 2,
   "metadata": {},
   "outputs": [],
   "source": [
    "n_scenarios=5000\n",
    "rates, zc_prices=erk.cir(10, n_scenarios=n_scenarios, b=0.03, r_0=0.03, sigma=0.02)\n",
    "price_eq=erk.gbm(n_years=10, n_scenarios=n_scenarios, mu=0.07, sigma=0.15)"
   ]
  },
  {
   "cell_type": "markdown",
   "metadata": {},
   "source": [
    "DYNAMIC RISK BUDGETING"
   ]
  },
  {
   "cell_type": "code",
   "execution_count": 6,
   "metadata": {},
   "outputs": [
    {
     "data": {
      "text/html": [
       "<div>\n",
       "<style scoped>\n",
       "    .dataframe tbody tr th:only-of-type {\n",
       "        vertical-align: middle;\n",
       "    }\n",
       "\n",
       "    .dataframe tbody tr th {\n",
       "        vertical-align: top;\n",
       "    }\n",
       "\n",
       "    .dataframe thead th {\n",
       "        text-align: right;\n",
       "    }\n",
       "</style>\n",
       "<table border=\"1\" class=\"dataframe\">\n",
       "  <thead>\n",
       "    <tr style=\"text-align: right;\">\n",
       "      <th></th>\n",
       "      <th>ZC</th>\n",
       "      <th>Eq</th>\n",
       "      <th>70/30</th>\n",
       "    </tr>\n",
       "  </thead>\n",
       "  <tbody>\n",
       "    <tr>\n",
       "      <td>mean</td>\n",
       "      <td>1.34</td>\n",
       "      <td>1.96</td>\n",
       "      <td>1.75</td>\n",
       "    </tr>\n",
       "    <tr>\n",
       "      <td>std</td>\n",
       "      <td>0.00</td>\n",
       "      <td>0.96</td>\n",
       "      <td>0.59</td>\n",
       "    </tr>\n",
       "    <tr>\n",
       "      <td>p_breach</td>\n",
       "      <td>NaN</td>\n",
       "      <td>0.04</td>\n",
       "      <td>0.01</td>\n",
       "    </tr>\n",
       "    <tr>\n",
       "      <td>e_short</td>\n",
       "      <td>NaN</td>\n",
       "      <td>0.12</td>\n",
       "      <td>0.07</td>\n",
       "    </tr>\n",
       "    <tr>\n",
       "      <td>p_reach</td>\n",
       "      <td>NaN</td>\n",
       "      <td>NaN</td>\n",
       "      <td>NaN</td>\n",
       "    </tr>\n",
       "    <tr>\n",
       "      <td>e_surplus</td>\n",
       "      <td>NaN</td>\n",
       "      <td>NaN</td>\n",
       "      <td>NaN</td>\n",
       "    </tr>\n",
       "  </tbody>\n",
       "</table>\n",
       "</div>"
      ],
      "text/plain": [
       "             ZC    Eq  70/30\n",
       "mean       1.34  1.96   1.75\n",
       "std        0.00  0.96   0.59\n",
       "p_breach    NaN  0.04   0.01\n",
       "e_short     NaN  0.12   0.07\n",
       "p_reach     NaN   NaN    NaN\n",
       "e_surplus   NaN   NaN    NaN"
      ]
     },
     "execution_count": 6,
     "metadata": {},
     "output_type": "execute_result"
    }
   ],
   "source": [
    "rets_eq=price_eq.pct_change().dropna()\n",
    "rets_zc=zc_prices.pct_change().dropna()\n",
    "rets_7030b=erk.bt_mix(rets_eq, rets_zc, allocator=erk.fixedmix_allocator, w1=0.7)\n",
    "\n",
    "pd.concat([\n",
    "    erk.terminal_stats(rets_zc, name=\"ZC\", floor=0.75), \n",
    "    erk.terminal_stats(rets_eq, name=\"Eq\", floor=0.75),\n",
    "    erk.terminal_stats(rets_7030b, name=\"70/30\", floor=0.75)]\n",
    ", axis=1).round(2)"
   ]
  },
  {
   "cell_type": "markdown",
   "metadata": {},
   "source": [
    "I am goinf to try and fix the breach "
   ]
  },
  {
   "cell_type": "code",
   "execution_count": 10,
   "metadata": {},
   "outputs": [],
   "source": [
    "def floor_allocator(psp_r, ghp_r, floor, zc_prices, m=3):\n",
    "    if zc_prices.shape != psp_r.shape:\n",
    "        raise ValueError(\"PSP and ZC prices mst have the same shape\")\n",
    "    n_steps, n_scenarios=psp_r.shape\n",
    "    account_value=np.repeat(1, n_scenarios)\n",
    "    floor_value=np.repeat(1, n_scenarios)\n",
    "    w_history=pd.DataFrame(index=psp_r.index, columns=psp_r.columns)\n",
    "    for step in range(n_steps):\n",
    "        floor_value=floor*zc_prices.iloc[step] \n",
    "        cushion=(account_value-floor_value)/account_value\n",
    "        psp_w=(m*cushion).clip(0, 1)\n",
    "        ghp_w=1-psp_w\n",
    "        psp_alloc=account_value*psp_w\n",
    "        ghp_alloc=account_value*ghp_w\n",
    "        account_value=psp_alloc*(1+psp_r.iloc[step])+ghp_alloc*(1+ghp_r.iloc[step])\n",
    "        w_history.iloc[step]=psp_w\n",
    "    return w_history"
   ]
  },
  {
   "cell_type": "code",
   "execution_count": 11,
   "metadata": {},
   "outputs": [
    {
     "data": {
      "text/html": [
       "<div>\n",
       "<style scoped>\n",
       "    .dataframe tbody tr th:only-of-type {\n",
       "        vertical-align: middle;\n",
       "    }\n",
       "\n",
       "    .dataframe tbody tr th {\n",
       "        vertical-align: top;\n",
       "    }\n",
       "\n",
       "    .dataframe thead th {\n",
       "        text-align: right;\n",
       "    }\n",
       "</style>\n",
       "<table border=\"1\" class=\"dataframe\">\n",
       "  <thead>\n",
       "    <tr style=\"text-align: right;\">\n",
       "      <th></th>\n",
       "      <th>ZC</th>\n",
       "      <th>Eq</th>\n",
       "      <th>70/30</th>\n",
       "      <th>Floor75</th>\n",
       "    </tr>\n",
       "  </thead>\n",
       "  <tbody>\n",
       "    <tr>\n",
       "      <td>mean</td>\n",
       "      <td>1.34</td>\n",
       "      <td>1.96</td>\n",
       "      <td>1.75</td>\n",
       "      <td>1.93</td>\n",
       "    </tr>\n",
       "    <tr>\n",
       "      <td>std</td>\n",
       "      <td>0.00</td>\n",
       "      <td>0.96</td>\n",
       "      <td>0.59</td>\n",
       "      <td>0.96</td>\n",
       "    </tr>\n",
       "    <tr>\n",
       "      <td>p_breach</td>\n",
       "      <td>NaN</td>\n",
       "      <td>0.04</td>\n",
       "      <td>0.01</td>\n",
       "      <td>NaN</td>\n",
       "    </tr>\n",
       "    <tr>\n",
       "      <td>e_short</td>\n",
       "      <td>NaN</td>\n",
       "      <td>0.12</td>\n",
       "      <td>0.07</td>\n",
       "      <td>NaN</td>\n",
       "    </tr>\n",
       "    <tr>\n",
       "      <td>p_reach</td>\n",
       "      <td>NaN</td>\n",
       "      <td>NaN</td>\n",
       "      <td>NaN</td>\n",
       "      <td>NaN</td>\n",
       "    </tr>\n",
       "    <tr>\n",
       "      <td>e_surplus</td>\n",
       "      <td>NaN</td>\n",
       "      <td>NaN</td>\n",
       "      <td>NaN</td>\n",
       "      <td>NaN</td>\n",
       "    </tr>\n",
       "  </tbody>\n",
       "</table>\n",
       "</div>"
      ],
      "text/plain": [
       "             ZC    Eq  70/30  Floor75\n",
       "mean       1.34  1.96   1.75     1.93\n",
       "std        0.00  0.96   0.59     0.96\n",
       "p_breach    NaN  0.04   0.01      NaN\n",
       "e_short     NaN  0.12   0.07      NaN\n",
       "p_reach     NaN   NaN    NaN      NaN\n",
       "e_surplus   NaN   NaN    NaN      NaN"
      ]
     },
     "execution_count": 11,
     "metadata": {},
     "output_type": "execute_result"
    }
   ],
   "source": [
    "rets_floor75=erk.bt_mix(rets_eq, rets_zc, allocator=erk.floor_allocator, floor=0.75, zc_prices=zc_prices[1:])\n",
    "\n",
    "pd.concat([\n",
    "    erk.terminal_stats(rets_zc, name=\"ZC\", floor=0.75), \n",
    "    erk.terminal_stats(rets_eq, name=\"Eq\", floor=0.75),\n",
    "    erk.terminal_stats(rets_7030b, name=\"70/30\", floor=0.75),\n",
    "    erk.terminal_stats(rets_floor75, name=\"Floor75\", floor=0.75),\n",
    "],\n",
    "axis=1).round(2)"
   ]
  },
  {
   "cell_type": "code",
   "execution_count": 13,
   "metadata": {},
   "outputs": [
    {
     "data": {
      "text/html": [
       "<div>\n",
       "<style scoped>\n",
       "    .dataframe tbody tr th:only-of-type {\n",
       "        vertical-align: middle;\n",
       "    }\n",
       "\n",
       "    .dataframe tbody tr th {\n",
       "        vertical-align: top;\n",
       "    }\n",
       "\n",
       "    .dataframe thead th {\n",
       "        text-align: right;\n",
       "    }\n",
       "</style>\n",
       "<table border=\"1\" class=\"dataframe\">\n",
       "  <thead>\n",
       "    <tr style=\"text-align: right;\">\n",
       "      <th></th>\n",
       "      <th>ZC</th>\n",
       "      <th>Eq</th>\n",
       "      <th>70/30</th>\n",
       "      <th>Floor75m1</th>\n",
       "      <th>Floor75m2</th>\n",
       "    </tr>\n",
       "  </thead>\n",
       "  <tbody>\n",
       "    <tr>\n",
       "      <td>mean</td>\n",
       "      <td>1.34</td>\n",
       "      <td>1.96</td>\n",
       "      <td>1.75</td>\n",
       "      <td>1.93</td>\n",
       "      <td>1.93</td>\n",
       "    </tr>\n",
       "    <tr>\n",
       "      <td>std</td>\n",
       "      <td>0.00</td>\n",
       "      <td>0.96</td>\n",
       "      <td>0.59</td>\n",
       "      <td>0.96</td>\n",
       "      <td>0.96</td>\n",
       "    </tr>\n",
       "    <tr>\n",
       "      <td>p_breach</td>\n",
       "      <td>NaN</td>\n",
       "      <td>0.04</td>\n",
       "      <td>0.01</td>\n",
       "      <td>NaN</td>\n",
       "      <td>NaN</td>\n",
       "    </tr>\n",
       "    <tr>\n",
       "      <td>e_short</td>\n",
       "      <td>NaN</td>\n",
       "      <td>0.12</td>\n",
       "      <td>0.07</td>\n",
       "      <td>NaN</td>\n",
       "      <td>NaN</td>\n",
       "    </tr>\n",
       "    <tr>\n",
       "      <td>p_reach</td>\n",
       "      <td>NaN</td>\n",
       "      <td>NaN</td>\n",
       "      <td>NaN</td>\n",
       "      <td>NaN</td>\n",
       "      <td>NaN</td>\n",
       "    </tr>\n",
       "    <tr>\n",
       "      <td>e_surplus</td>\n",
       "      <td>NaN</td>\n",
       "      <td>NaN</td>\n",
       "      <td>NaN</td>\n",
       "      <td>NaN</td>\n",
       "      <td>NaN</td>\n",
       "    </tr>\n",
       "  </tbody>\n",
       "</table>\n",
       "</div>"
      ],
      "text/plain": [
       "             ZC    Eq  70/30  Floor75m1  Floor75m2\n",
       "mean       1.34  1.96   1.75       1.93       1.93\n",
       "std        0.00  0.96   0.59       0.96       0.96\n",
       "p_breach    NaN  0.04   0.01        NaN        NaN\n",
       "e_short     NaN  0.12   0.07        NaN        NaN\n",
       "p_reach     NaN   NaN    NaN        NaN        NaN\n",
       "e_surplus   NaN   NaN    NaN        NaN        NaN"
      ]
     },
     "execution_count": 13,
     "metadata": {},
     "output_type": "execute_result"
    }
   ],
   "source": [
    "rets_floor75m1=erk.bt_mix(rets_eq, rets_zc, allocator=erk.floor_allocator, floor=0.75, zc_prices=zc_prices[1:], m=1)\n",
    "rets_floor75m1=erk.bt_mix(rets_eq, rets_zc, allocator=erk.floor_allocator, floor=0.75, zc_prices=zc_prices[1:], m=5)\n",
    "pd.concat([\n",
    "    erk.terminal_stats(rets_zc, name=\"ZC\", floor=0.75), \n",
    "    erk.terminal_stats(rets_eq, name=\"Eq\", floor=0.75),\n",
    "    erk.terminal_stats(rets_7030b, name=\"70/30\", floor=0.75),\n",
    "    erk.terminal_stats(rets_floor75, name=\"Floor75m1\", floor=0.75),\n",
    "    erk.terminal_stats(rets_floor75, name=\"Floor75m2\", floor=0.75),\n",
    "],\n",
    "\n",
    "axis=1).round(2)\n"
   ]
  },
  {
   "cell_type": "code",
   "execution_count": 14,
   "metadata": {},
   "outputs": [
    {
     "data": {
      "text/html": [
       "<div>\n",
       "<style scoped>\n",
       "    .dataframe tbody tr th:only-of-type {\n",
       "        vertical-align: middle;\n",
       "    }\n",
       "\n",
       "    .dataframe tbody tr th {\n",
       "        vertical-align: top;\n",
       "    }\n",
       "\n",
       "    .dataframe thead th {\n",
       "        text-align: right;\n",
       "    }\n",
       "</style>\n",
       "<table border=\"1\" class=\"dataframe\">\n",
       "  <thead>\n",
       "    <tr style=\"text-align: right;\">\n",
       "      <th></th>\n",
       "      <th>ZC</th>\n",
       "      <th>Eq</th>\n",
       "      <th>70/30</th>\n",
       "      <th>Floor75m1</th>\n",
       "      <th>Floor75m2</th>\n",
       "    </tr>\n",
       "  </thead>\n",
       "  <tbody>\n",
       "    <tr>\n",
       "      <td>mean</td>\n",
       "      <td>1.3433</td>\n",
       "      <td>1.9583</td>\n",
       "      <td>1.7508</td>\n",
       "      <td>1.9333</td>\n",
       "      <td>1.9333</td>\n",
       "    </tr>\n",
       "    <tr>\n",
       "      <td>std</td>\n",
       "      <td>0.0000</td>\n",
       "      <td>0.9582</td>\n",
       "      <td>0.5850</td>\n",
       "      <td>0.9649</td>\n",
       "      <td>0.9649</td>\n",
       "    </tr>\n",
       "    <tr>\n",
       "      <td>p_breach</td>\n",
       "      <td>NaN</td>\n",
       "      <td>0.0356</td>\n",
       "      <td>0.0076</td>\n",
       "      <td>NaN</td>\n",
       "      <td>NaN</td>\n",
       "    </tr>\n",
       "    <tr>\n",
       "      <td>e_short</td>\n",
       "      <td>NaN</td>\n",
       "      <td>0.1167</td>\n",
       "      <td>0.0694</td>\n",
       "      <td>NaN</td>\n",
       "      <td>NaN</td>\n",
       "    </tr>\n",
       "    <tr>\n",
       "      <td>p_reach</td>\n",
       "      <td>NaN</td>\n",
       "      <td>NaN</td>\n",
       "      <td>NaN</td>\n",
       "      <td>NaN</td>\n",
       "      <td>NaN</td>\n",
       "    </tr>\n",
       "    <tr>\n",
       "      <td>e_surplus</td>\n",
       "      <td>NaN</td>\n",
       "      <td>NaN</td>\n",
       "      <td>NaN</td>\n",
       "      <td>NaN</td>\n",
       "      <td>NaN</td>\n",
       "    </tr>\n",
       "  </tbody>\n",
       "</table>\n",
       "</div>"
      ],
      "text/plain": [
       "               ZC      Eq   70/30  Floor75m1  Floor75m2\n",
       "mean       1.3433  1.9583  1.7508     1.9333     1.9333\n",
       "std        0.0000  0.9582  0.5850     0.9649     0.9649\n",
       "p_breach      NaN  0.0356  0.0076        NaN        NaN\n",
       "e_short       NaN  0.1167  0.0694        NaN        NaN\n",
       "p_reach       NaN     NaN     NaN        NaN        NaN\n",
       "e_surplus     NaN     NaN     NaN        NaN        NaN"
      ]
     },
     "execution_count": 14,
     "metadata": {},
     "output_type": "execute_result"
    }
   ],
   "source": [
    "pd.concat([\n",
    "    erk.terminal_stats(rets_zc, name=\"ZC\", floor=0.75), \n",
    "    erk.terminal_stats(rets_eq, name=\"Eq\", floor=0.75),\n",
    "    erk.terminal_stats(rets_7030b, name=\"70/30\", floor=0.75),\n",
    "    erk.terminal_stats(rets_floor75, name=\"Floor75m1\", floor=0.75),\n",
    "    erk.terminal_stats(rets_floor75, name=\"Floor75m2\", floor=0.75),\n",
    "],\n",
    "\n",
    "axis=1).round(4)"
   ]
  },
  {
   "cell_type": "markdown",
   "metadata": {},
   "source": [
    "Risk budgetting with dradown constraint"
   ]
  },
  {
   "cell_type": "code",
   "execution_count": 21,
   "metadata": {},
   "outputs": [
    {
     "data": {
      "text/html": [
       "<div>\n",
       "<style scoped>\n",
       "    .dataframe tbody tr th:only-of-type {\n",
       "        vertical-align: middle;\n",
       "    }\n",
       "\n",
       "    .dataframe tbody tr th {\n",
       "        vertical-align: top;\n",
       "    }\n",
       "\n",
       "    .dataframe thead th {\n",
       "        text-align: right;\n",
       "    }\n",
       "</style>\n",
       "<table border=\"1\" class=\"dataframe\">\n",
       "  <thead>\n",
       "    <tr style=\"text-align: right;\">\n",
       "      <th></th>\n",
       "      <th>ZC</th>\n",
       "      <th>Eq</th>\n",
       "      <th>70/30</th>\n",
       "      <th>Floor75m1</th>\n",
       "      <th>Floor75m5</th>\n",
       "      <th>Maxdd25</th>\n",
       "    </tr>\n",
       "  </thead>\n",
       "  <tbody>\n",
       "    <tr>\n",
       "      <td>mean</td>\n",
       "      <td>1.34</td>\n",
       "      <td>1.96</td>\n",
       "      <td>1.75</td>\n",
       "      <td>1.93</td>\n",
       "      <td>1.93</td>\n",
       "      <td>1.62</td>\n",
       "    </tr>\n",
       "    <tr>\n",
       "      <td>std</td>\n",
       "      <td>0.00</td>\n",
       "      <td>0.96</td>\n",
       "      <td>0.59</td>\n",
       "      <td>0.96</td>\n",
       "      <td>0.96</td>\n",
       "      <td>0.53</td>\n",
       "    </tr>\n",
       "    <tr>\n",
       "      <td>p_breach</td>\n",
       "      <td>NaN</td>\n",
       "      <td>0.04</td>\n",
       "      <td>0.01</td>\n",
       "      <td>NaN</td>\n",
       "      <td>NaN</td>\n",
       "      <td>NaN</td>\n",
       "    </tr>\n",
       "    <tr>\n",
       "      <td>e_short</td>\n",
       "      <td>NaN</td>\n",
       "      <td>0.12</td>\n",
       "      <td>0.07</td>\n",
       "      <td>NaN</td>\n",
       "      <td>NaN</td>\n",
       "      <td>NaN</td>\n",
       "    </tr>\n",
       "    <tr>\n",
       "      <td>p_reach</td>\n",
       "      <td>NaN</td>\n",
       "      <td>NaN</td>\n",
       "      <td>NaN</td>\n",
       "      <td>NaN</td>\n",
       "      <td>NaN</td>\n",
       "      <td>NaN</td>\n",
       "    </tr>\n",
       "    <tr>\n",
       "      <td>e_surplus</td>\n",
       "      <td>NaN</td>\n",
       "      <td>NaN</td>\n",
       "      <td>NaN</td>\n",
       "      <td>NaN</td>\n",
       "      <td>NaN</td>\n",
       "      <td>NaN</td>\n",
       "    </tr>\n",
       "  </tbody>\n",
       "</table>\n",
       "</div>"
      ],
      "text/plain": [
       "             ZC    Eq  70/30  Floor75m1  Floor75m5  Maxdd25\n",
       "mean       1.34  1.96   1.75       1.93       1.93     1.62\n",
       "std        0.00  0.96   0.59       0.96       0.96     0.53\n",
       "p_breach    NaN  0.04   0.01        NaN        NaN      NaN\n",
       "e_short     NaN  0.12   0.07        NaN        NaN      NaN\n",
       "p_reach     NaN   NaN    NaN        NaN        NaN      NaN\n",
       "e_surplus   NaN   NaN    NaN        NaN        NaN      NaN"
      ]
     },
     "execution_count": 21,
     "metadata": {},
     "output_type": "execute_result"
    }
   ],
   "source": [
    "cashrate=0.02\n",
    "monthly_cashreturn=(1+cashrate)**(1/12)-1\n",
    "rets_cash=pd.DataFrame(data=monthly_cashreturn, index=rets_eq.index, columns=rets_eq.columns)\n",
    "rets_maxdd25=erk.bt_mix(rets_eq, rets_cash, allocator=erk.drawdown_allocator, maxdd=.25)\n",
    "tv_maxdd25=erk.terminal_values(rets_maxdd25)\n",
    "pd.concat([\n",
    "    erk.terminal_stats(rets_zc, name=\"ZC\", floor=0.75), \n",
    "    erk.terminal_stats(rets_eq, name=\"Eq\", floor=0.75),\n",
    "    erk.terminal_stats(rets_7030b, name=\"70/30\", floor=0.75),\n",
    "    erk.terminal_stats(rets_floor75, name=\"Floor75m1\", floor=0.75),\n",
    "    erk.terminal_stats(rets_floor75, name=\"Floor75m5\", floor=0.75),\n",
    "    erk.terminal_stats(rets_maxdd25, name=\"Maxdd25\", floor=0.75),\n",
    "],\n",
    "\n",
    "axis=1).round(2)\n"
   ]
  },
  {
   "cell_type": "code",
   "execution_count": 22,
   "metadata": {},
   "outputs": [
    {
     "data": {
      "text/plain": [
       "0   -0.138502\n",
       "1   -0.192998\n",
       "2   -0.136236\n",
       "3   -0.109301\n",
       "4   -0.150259\n",
       "Name: Max Drawdown, dtype: float64"
      ]
     },
     "execution_count": 22,
     "metadata": {},
     "output_type": "execute_result"
    }
   ],
   "source": [
    "erk.summary_stats(rets_maxdd25)[\"Max Drawdown\"].head()"
   ]
  },
  {
   "cell_type": "code",
   "execution_count": 23,
   "metadata": {},
   "outputs": [
    {
     "data": {
      "text/plain": [
       "-0.23565268397794942"
      ]
     },
     "execution_count": 23,
     "metadata": {},
     "output_type": "execute_result"
    }
   ],
   "source": [
    "erk.summary_stats(rets_maxdd25)[\"Max Drawdown\"].min()"
   ]
  },
  {
   "cell_type": "code",
   "execution_count": 26,
   "metadata": {},
   "outputs": [],
   "source": [
    "#"
   ]
  },
  {
   "cell_type": "code",
   "execution_count": 25,
   "metadata": {},
   "outputs": [
    {
     "data": {
      "image/png": "[encoded data removed]",
      "text/plain": [
       "<Figure size 864x432 with 1 Axes>"
      ]
     },
     "metadata": {
      "needs_background": "light"
     },
     "output_type": "display_data"
    }
   ],
   "source": [
    "tv_eq=erk.terminal_values(rets_eq)\n",
    "tv_zc=erk.terminal_values(rets_zc)\n",
    "tv_7030b=erk.terminal_values(rets_7030b)\n",
    "tv_floor75=erk.terminal_values(rets_floor75)\n",
    "tv_maxdd25=erk.terminal_values(rets_maxdd25)\n",
    "#plot\n",
    "plt.figure(figsize=(12,6))\n",
    "sns.distplot(tv_eq, color=\"red\", label=\"100% Equities\", bins=100)\n",
    "plt.axvline(tv_eq.mean(), ls=\"--\", color=\"red\")\n",
    "sns.distplot(tv_7030b, color=\"orange\", label=\"70/3.b\", bins=100)\n",
    "plt.axvline(tv_7030b.mean(), ls=\"--\", color=\"orange\")\n",
    "sns.distplot(tv_floor75, color=\"green\", label=\"Folor at 75%\", bins=100)\n",
    "plt.axvline(tv_floor75.mean(), ls=\"--\", color=\"green\")\n",
    "sns.distplot(tv_maxdd25, color=\"yellow\", label=\"MaxDD=25%\", bins=100)\n",
    "plt.axvline(tv_maxdd25.mean(), ls=\"--\", color=\"yellow\")\n",
    "plt.legend();"
   ]
  },
  {
   "cell_type": "markdown",
   "metadata": {},
   "source": [
    "#Drawdown constraint with Historical Data"
   ]
  },
  {
   "cell_type": "code",
   "execution_count": 36,
   "metadata": {},
   "outputs": [
    {
     "data": {
      "text/plain": [
       "<matplotlib.axes._subplots.AxesSubplot at 0x21c9ff9f348>"
      ]
     },
     "execution_count": 36,
     "metadata": {},
     "output_type": "execute_result"
    },
    {
     "data": {
      "image/png": "[encoded data removed]",
      "text/plain": [
       "<Figure size 864x432 with 1 Axes>"
      ]
     },
     "metadata": {
      "needs_background": "light"
     },
     "output_type": "display_data"
    }
   ],
   "source": [
    "rets_tmi=erk.get_tmi_rets()[\"1990\":]\n",
    "dd_tmi=erk.drawdown(rets_tmi)\n",
    "ax=dd_tmi[\"wealth\"].plot(figsize=(12,6) ,ls=\"--\", color=\"goldenrod\")\n",
    "dd_tmi[\"peaks\"].plot(ax=ax, ls=\":\", color=\"goldenrod\")"
   ]
  },
  {
   "cell_type": "code",
   "execution_count": 37,
   "metadata": {},
   "outputs": [
    {
     "data": {
      "text/plain": [
       "<matplotlib.axes._subplots.AxesSubplot at 0x21c9ff81048>"
      ]
     },
     "execution_count": 37,
     "metadata": {},
     "output_type": "execute_result"
    },
    {
     "data": {
      "image/png": "[encoded data removed]",
      "text/plain": [
       "<Figure size 864x432 with 1 Axes>"
      ]
     },
     "metadata": {
      "needs_background": "light"
     },
     "output_type": "display_data"
    }
   ],
   "source": [
    "cashrate=0.03\n",
    "monthly_cashreturn=(1+cashrate)**(1/12)-1\n",
    "rets_cash=pd.DataFrame(data=monthly_cashreturn, index=rets_tmi.index, columns=[0])\n",
    "rets_maxdd25=erk.bt_mix(pd.DataFrame(rets_tmi),rets_cash, allocator=erk.drawdown_allocator, maxdd=.25, m=5)\n",
    "dd_25=erk.drawdown(rets_maxdd25[0])\n",
    "\n",
    "ax=dd_tmi[\"wealth\"].plot(figsize=(12,6) ,ls=\"--\", color=\"goldenrod\", label=\"Market\", legend=True)\n",
    "dd_tmi[\"peaks\"].plot(ax=ax, ls=\":\", color=\"goldenrod\")\n",
    "dd_25[\"wealth\"].plot(ax=ax, label=\"Maxdd25%\",color=\"cornflowerblue\", legend=True )\n",
    "dd_25[\"peaks\"].plot(ax=ax, ls=\":\", color=\"cornflowerblue\")"
   ]
  },
  {
   "cell_type": "code",
   "execution_count": 39,
   "metadata": {},
   "outputs": [
    {
     "ename": "SyntaxError",
     "evalue": "unexpected EOF while parsing (<ipython-input-39-fb126a435f09>, line 1)",
     "output_type": "error",
     "traceback": [
      "\u001b[1;36m  File \u001b[1;32m\"<ipython-input-39-fb126a435f09>\"\u001b[1;36m, line \u001b[1;32m1\u001b[0m\n\u001b[1;33m    erk.summary_stats(pd.concat([rets_tmi.rename(\"Market\"), rets_maxdd25[0].rename(\"MaxdDD\")], axis=1)\u001b[0m\n\u001b[1;37m                                                                                                      ^\u001b[0m\n\u001b[1;31mSyntaxError\u001b[0m\u001b[1;31m:\u001b[0m unexpected EOF while parsing\n"
     ]
    }
   ],
   "source": [
    "erk.summary_stats(pd.concat([rets_tmi.rename(\"Market\"), rets_maxdd25[0].rename(\"MaxdDD\")], axis=1)"
   ]
  },
  {
   "cell_type": "code",
   "execution_count": null,
   "metadata": {},
   "outputs": [],
   "source": []
  }
 ],
 "metadata": {
  "kernelspec": {
   "display_name": "Python 3",
   "language": "python",
   "name": "python3"
  },
  "language_info": {
   "codemirror_mode": {
    "name": "ipython",
    "version": 3
   },
   "file_extension": ".py",
   "mimetype": "text/x-python",
   "name": "python",
   "nbconvert_exporter": "python",
   "pygments_lexer": "ipython3",
   "version": "3.7.4"
  }
 },
 "nbformat": 4,
 "nbformat_minor": 4
}
